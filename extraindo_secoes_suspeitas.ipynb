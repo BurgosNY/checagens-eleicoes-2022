{
 "cells": [
  {
   "cell_type": "code",
   "execution_count": 111,
   "id": "e503acfc",
   "metadata": {},
   "outputs": [],
   "source": [
    "# Primeiro passo: baixar boletinss de urna aqui: https://dados.gov.br/dataset/resultados-2022-boletim-de-urna \n",
    "# Detalhe importante: todos os arquivos são datados de 31.10.2022. O papo de que eles foram \"alterados\" depois é fake news.\n",
    "# Abrir os zips, e jogar os .csv no mesmo diretório deste notebook\n",
    "import os\n",
    "\n",
    "boletins_ufs = [x for x in os.listdir() if x.startswith(\"bweb_2t\")]"
   ]
  },
  {
   "cell_type": "code",
   "execution_count": 263,
   "id": "c3a91beb",
   "metadata": {},
   "outputs": [
    {
     "data": {
      "text/plain": [
       "['bweb_2t_PB_311020221535.csv',\n",
       " 'bweb_2t_MG_311020221535.csv',\n",
       " 'bweb_2t_MS_311020221535.csv',\n",
       " 'bweb_2t_PI_311020221535.csv',\n",
       " 'bweb_2t_AP_311020221535.csv',\n",
       " 'bweb_2t_SC_311020221535.csv',\n",
       " 'bweb_2t_CE_311020221535.csv',\n",
       " 'bweb_2t_BA_311020221535.csv',\n",
       " 'bweb_2t_PR_311020221535.csv',\n",
       " 'bweb_2t_RS_311020221535.csv',\n",
       " 'bweb_2t_GO_311020221535.csv',\n",
       " 'bweb_2t_ZZ_311020221535.csv',\n",
       " 'bweb_2t_RR_311020221535.csv',\n",
       " 'bweb_2t_SE_311020221535.csv',\n",
       " 'bweb_2t_TO_311020221535.csv',\n",
       " 'bweb_2t_RJ_311020221535.csv',\n",
       " 'bweb_2t_DF_311020221535.csv',\n",
       " 'bweb_2t_AM_311020221535.csv',\n",
       " 'bweb_2t_RN_311020221535.csv',\n",
       " 'bweb_2t_MA_311020221535.csv',\n",
       " 'bweb_2t_ES_311020221535.csv',\n",
       " 'bweb_2t_SP_311020221535.csv',\n",
       " 'bweb_2t_AC_311020221535.csv',\n",
       " 'bweb_2t_PA_311020221535.csv',\n",
       " 'bweb_2t_PE_311020221535.csv',\n",
       " 'bweb_2t_AL_311020221535.csv',\n",
       " 'bweb_2t_RO_311020221535.csv',\n",
       " 'bweb_2t_MT_311020221535.csv']"
      ]
     },
     "execution_count": 263,
     "metadata": {},
     "output_type": "execute_result"
    }
   ],
   "source": [
    "boletins_ufs"
   ]
  },
  {
   "cell_type": "code",
   "execution_count": 170,
   "id": "8528414c",
   "metadata": {},
   "outputs": [],
   "source": [
    "import pandas as pd\n",
    "\n",
    "# Função que pega csv, transforma em dataframe, e retorna seções onde um candidato teve 100% dos votos\n",
    "def extrair_outliers(csv): \n",
    "    df = pd.read_csv(csv, sep=\";\", encoding=\"latin-1\")\n",
    "    df['zona_secao'] = df['NR_ZONA'].astype(str) + df['NR_SECAO'].astype(str)\n",
    "    municipios = df['NM_MUNICIPIO'].unique()\n",
    "    outliers = []\n",
    "    for municipio in municipios:\n",
    "        m = df.query(f'NM_MUNICIPIO == \"{municipio}\" & DS_ELEICAO == \"Eleição Geral Federal 2022\"').copy()\n",
    "        for zona_secao in m['zona_secao'].unique():\n",
    "            s = m.query(f'zona_secao == \"{zona_secao}\"')\n",
    "            if 'LULA' not in s['NM_VOTAVEL'].values or 'JAIR BOLSONARO' not in s['NM_VOTAVEL'].values:\n",
    "                data = s.to_dict(\"records\")\n",
    "                outliers += data\n",
    "    return outliers\n",
    "    "
   ]
  },
  {
   "cell_type": "code",
   "execution_count": 171,
   "id": "61695692",
   "metadata": {},
   "outputs": [],
   "source": [
    "# Colocamos todos os outliers em uma mesma lista de dicionários. Pode levar muitos minutos para rodar essa parte\n",
    "# dependendo da sua máquina\n",
    "outliers = []\n",
    "for csv in sorted(boletins_ufs):\n",
    "    outliers += extrair_outliers(csv)"
   ]
  },
  {
   "cell_type": "code",
   "execution_count": 175,
   "id": "256d65e7",
   "metadata": {},
   "outputs": [],
   "source": [
    "# Criamos um DataFrame com todos esses dados\n",
    "df = pd.DataFrame(outliers)"
   ]
  },
  {
   "cell_type": "code",
   "execution_count": 216,
   "id": "6d8a1cbc",
   "metadata": {},
   "outputs": [],
   "source": [
    "# Agora damos uma limpada no dataframe, tirando algumas colunas, incluindo outras \n",
    "out = []\n",
    "for secao in df['zona_secao'].unique():\n",
    "    s = df.query(f\"zona_secao == '{secao}'\").copy()\n",
    "    colunas = ['SG_UF', 'NM_MUNICIPIO', 'NR_ZONA', 'NR_SECAO', 'QT_APTOS', 'QT_ABSTENCOES']\n",
    "    obj = s.groupby(\"NM_VOTAVEL\")['QT_VOTOS'].sum().to_dict()\n",
    "    if 'LULA' not in obj.keys():\n",
    "        obj['LULA'] = 0\n",
    "    elif 'JAIR BOLSONARO' not in obj.keys():\n",
    "        obj['JAIR BOLSONARO'] = 0\n",
    "    for c in colunas:\n",
    "        obj[c] = s[c].values[0]\n",
    "        out.append(obj)\n",
    "        "
   ]
  },
  {
   "cell_type": "code",
   "execution_count": 257,
   "id": "773e76b4",
   "metadata": {},
   "outputs": [],
   "source": [
    "# Por últimos acrescentamos dados de locais de votação, daqui: https://dados.gov.br/dataset/eleitorado-2022\n",
    "locais = pd.read_csv(\"/Users/burgos/Downloads/eleitorado_local_votacao_2022 (1)/eleitorado_local_votacao_2022.csv\", sep=\";\", encoding=\"latin-1\")\n",
    "\n",
    "def obter_dados_secao(data_point):\n",
    "    municipio = data_point['NM_MUNICIPIO']\n",
    "    zona = data_point['NR_ZONA'] \n",
    "    secao = data_point['NR_SECAO']\n",
    "    data = locais.query(f\"NM_MUNICIPIO == '{municipio}' & NR_ZONA == {zona} & NR_SECAO == {secao}\")\n",
    "    return data[['NM_LOCAL_VOTACAO', 'NM_BAIRRO', 'NR_CEP', 'NR_TELEFONE_LOCAL']].to_dict('records')[1]\n",
    "    \n",
    "    "
   ]
  },
  {
   "cell_type": "code",
   "execution_count": 259,
   "id": "89ff8d28",
   "metadata": {},
   "outputs": [],
   "source": [
    "# Acrescentamos os locais das seções à lista de dicionários principal\n",
    "for o in out:\n",
    "    o.update(obter_dados_secao(o))"
   ]
  },
  {
   "cell_type": "code",
   "execution_count": 262,
   "id": "db358a55",
   "metadata": {},
   "outputs": [],
   "source": [
    "# E finalmente exportamos tudo\n",
    "pd.DataFrame(out).drop_duplicates().to_csv(\"new_outliers.csv\")"
   ]
  },
  {
   "cell_type": "code",
   "execution_count": null,
   "id": "713edb7d",
   "metadata": {},
   "outputs": [],
   "source": []
  }
 ],
 "metadata": {
  "kernelspec": {
   "display_name": "Python 3 (ipykernel)",
   "language": "python",
   "name": "python3"
  },
  "language_info": {
   "codemirror_mode": {
    "name": "ipython",
    "version": 3
   },
   "file_extension": ".py",
   "mimetype": "text/x-python",
   "name": "python",
   "nbconvert_exporter": "python",
   "pygments_lexer": "ipython3",
   "version": "3.10.6"
  }
 },
 "nbformat": 4,
 "nbformat_minor": 5
}
